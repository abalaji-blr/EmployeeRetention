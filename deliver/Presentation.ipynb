{
 "cells": [
  {
   "cell_type": "markdown",
   "metadata": {
    "nbpresent": {
     "id": "0c2a4064-1489-4449-b5b9-1dc23d18ccb0"
    },
    "slideshow": {
     "slide_type": "slide"
    }
   },
   "source": [
    "## Employee Retention\n",
    "\n",
    "### Balaji"
   ]
  },
  {
   "cell_type": "markdown",
   "metadata": {
    "nbpresent": {
     "id": "2ad71987-1c1c-47c5-b32d-9ad55782a090"
    },
    "slideshow": {
     "slide_type": "slide"
    }
   },
   "source": [
    "## Outline\n",
    "\n",
    "- Problem Statment\n",
    "- Get to know the data\n",
    "- Data cleaning\n",
    "- Build Model\n",
    "- Evaluate Metrics\n",
    "- Conclusion"
   ]
  },
  {
   "cell_type": "markdown",
   "metadata": {
    "nbpresent": {
     "id": "a636f77b-aa92-4c7a-86fc-430b268c5ef5"
    },
    "slideshow": {
     "slide_type": "slide"
    }
   },
   "source": [
    "### Thank you!!!"
   ]
  }
 ],
 "metadata": {
  "anaconda-cloud": {},
  "celltoolbar": "Slideshow",
  "kernelspec": {
   "display_name": "Python [conda root]",
   "language": "python",
   "name": "conda-root-py"
  },
  "language_info": {
   "codemirror_mode": {
    "name": "ipython",
    "version": 2
   },
   "file_extension": ".py",
   "mimetype": "text/x-python",
   "name": "python",
   "nbconvert_exporter": "python",
   "pygments_lexer": "ipython2",
   "version": "2.7.12"
  },
  "nbpresent": {
   "slides": {
    "4f43408b-3794-40f9-a401-be57d35525c3": {
     "id": "4f43408b-3794-40f9-a401-be57d35525c3",
     "prev": "50463474-ada2-4e16-95e9-2cafb6e3d72d",
     "regions": {
      "08a4450b-19fb-4063-94af-b479e91f6581": {
       "attrs": {
        "height": 0.8,
        "width": 0.8,
        "x": 0.1,
        "y": 0.1
       },
       "content": {
        "cell": "a636f77b-aa92-4c7a-86fc-430b268c5ef5",
        "part": "whole"
       },
       "id": "08a4450b-19fb-4063-94af-b479e91f6581"
      },
      "b0e3d45a-e5a0-47bb-bdde-472c4ab29242": {
       "attrs": {
        "height": 0.4,
        "width": 0.8,
        "x": 0.1,
        "y": 0.5
       },
       "content": {
        "cell": "b92c5a45-7787-4bc6-9265-047daaab6219",
        "part": "whole"
       },
       "id": "b0e3d45a-e5a0-47bb-bdde-472c4ab29242"
      }
     }
    },
    "50463474-ada2-4e16-95e9-2cafb6e3d72d": {
     "id": "50463474-ada2-4e16-95e9-2cafb6e3d72d",
     "prev": "6981dede-254e-4568-b2c5-9e0cf8716bd2",
     "regions": {
      "a0e51429-8c70-459d-88cc-257751fc38b5": {
       "attrs": {
        "height": 0.8,
        "width": 0.8,
        "x": 0.1,
        "y": 0.1
       },
       "content": {
        "cell": "2ad71987-1c1c-47c5-b32d-9ad55782a090",
        "part": "whole"
       },
       "id": "a0e51429-8c70-459d-88cc-257751fc38b5"
      }
     }
    },
    "6981dede-254e-4568-b2c5-9e0cf8716bd2": {
     "id": "6981dede-254e-4568-b2c5-9e0cf8716bd2",
     "prev": null,
     "regions": {
      "72f655b0-c800-40cd-adf7-857eba96934c": {
       "attrs": {
        "height": 0.8,
        "width": 0.8,
        "x": 0.1,
        "y": 0.1
       },
       "content": {
        "cell": "0c2a4064-1489-4449-b5b9-1dc23d18ccb0",
        "part": "whole"
       },
       "id": "72f655b0-c800-40cd-adf7-857eba96934c"
      }
     }
    }
   },
   "themes": {}
  }
 },
 "nbformat": 4,
 "nbformat_minor": 1
}
